{
  "nbformat": 4,
  "nbformat_minor": 0,
  "metadata": {
    "colab": {
      "provenance": [],
      "gpuType": "T4"
    },
    "kernelspec": {
      "name": "python3",
      "display_name": "Python 3"
    },
    "language_info": {
      "name": "python"
    },
    "accelerator": "GPU"
  },
  "cells": [
    {
      "cell_type": "code",
      "execution_count": null,
      "metadata": {
        "id": "OlMUd5gVcrCW"
      },
      "outputs": [],
      "source": [
        "import tensorflow as tf\n",
        "import os\n",
        "import pandas as pd\n",
        "import numpy as np\n",
        "from sklearn.preprocessing import MinMaxScaler\n",
        "from sklearn.model_selection import train_test_split\n"
      ]
    },
    {
      "cell_type": "code",
      "source": [
        "from google.colab import files\n",
        "\n",
        "uploaded = files.upload()"
      ],
      "metadata": {
        "id": "R7y2krpCfqOO"
      },
      "execution_count": null,
      "outputs": []
    },
    {
      "cell_type": "code",
      "source": [
        "df = pd.read_csv('44007h2019-2023.txt', sep='\\s+', low_memory=False)"
      ],
      "metadata": {
        "id": "GeqoUpfh9ykJ"
      },
      "execution_count": null,
      "outputs": []
    },
    {
      "cell_type": "code",
      "source": [
        "df = df[5::]"
      ],
      "metadata": {
        "id": "e7gjdXrz-ISm"
      },
      "execution_count": null,
      "outputs": []
    },
    {
      "cell_type": "code",
      "source": [
        "df['datetime'] = pd.to_datetime(df[['#YY', 'MM', 'DD', 'hh', 'mm']].rename(columns={'#YY': 'year', 'MM': 'month', 'DD': 'day', 'hh': 'hour', 'mm': 'minute'}))\n",
        "df = df.set_index('datetime')\n"
      ],
      "metadata": {
        "id": "RLbSdoWGBLA1"
      },
      "execution_count": null,
      "outputs": []
    },
    {
      "cell_type": "code",
      "source": [
        "df = df[df['WTMP'] <= 100]\n",
        "temp = df['WTMP']\n",
        "temp.plot()\n",
        "scalar = MinMaxScaler()\n",
        "temp = scalar.fit_transform(temp.values.reshape(-1, 1))\n",
        "temp = pd.DataFrame(temp, index=df.index)\n",
        "temp.plot()"
      ],
      "metadata": {
        "id": "CssyPHebDtkj"
      },
      "execution_count": null,
      "outputs": []
    },
    {
      "cell_type": "code",
      "source": [
        "# [[[1], [2], [3], [4], [5]]] [6]\n",
        "# [[[2], [3], [4], [5], [6]]] [7]\n",
        "# [[[3], [4], [5], [6], [7]]] [8]\n",
        "\n",
        "def df_to_X_y(df, window_size=5):\n",
        "  df_as_np = df.to_numpy()\n",
        "  Xs = []\n",
        "  ys = []\n",
        "  for i in range(len(df_as_np)-window_size):\n",
        "    x = df_as_np[i:i+window_size]\n",
        "    Xs.append(x)\n",
        "    y = df_as_np[i+window_size]\n",
        "    ys.append(y)\n",
        "  return np.array(Xs), np.array(ys)"
      ],
      "metadata": {
        "id": "v3malf5mJRUk"
      },
      "execution_count": null,
      "outputs": []
    },
    {
      "cell_type": "code",
      "source": [
        "WINDOW_SIZE = 10\n",
        "X1, y1 = df_to_X_y(temp, WINDOW_SIZE)\n",
        "# X1 = []\n",
        "# y1 = []\n",
        "# temp_numpy = temp.to_numpy()\n",
        "# temp_numpy\n",
        "# for i in range(len(temp_numpy)):\n",
        "#   row = [[a] for a in temp_numpy[i:i]]\n",
        "#   X1.append(row)\n",
        "#   label = temp_numpy[i]\n",
        "#   y1.append(label)\n",
        "# X1 = np.array(X1)\n",
        "# y1 = np.array(y1)\n",
        "\n",
        "X1.shape, y1.shape\n"
      ],
      "metadata": {
        "id": "UXPTdtXBJTNq"
      },
      "execution_count": null,
      "outputs": []
    },
    {
      "cell_type": "code",
      "source": [
        "X_train, y_train = X1[:100000], y1[:100000]\n",
        "X_val, y_val = X1[100000:130000], y1[100000:130000]\n",
        "X_test, y_test = X1[130000:], y1[130000:]\n",
        "X_train.shape, y_train.shape, X_val.shape, y_val.shape, X_test.shape, y_test.shape"
      ],
      "metadata": {
        "id": "zn5uFnEVJ9Al"
      },
      "execution_count": null,
      "outputs": []
    },
    {
      "cell_type": "code",
      "source": [
        "!pip install torch pytorch-lightning pandas scikit-learn matplotlib"
      ],
      "metadata": {
        "id": "z9cZFdPcMCz7",
        "collapsed": true
      },
      "execution_count": null,
      "outputs": []
    },
    {
      "cell_type": "code",
      "source": [
        "import torch\n",
        "import torch.nn as nn\n",
        "import pytorch_lightning as pl\n",
        "from torch.utils.data import DataLoader, TensorDataset\n",
        "\n",
        "class LSTMModel(pl.LightningModule):\n",
        "    def __init__(self, input_dim, hidden_dim, num_layers, output_dim):\n",
        "        super(LSTMModel, self).__init__()\n",
        "        self.hidden_dim = hidden_dim\n",
        "        self.num_layers = num_layers\n",
        "        self.lstm = nn.LSTM(input_dim, hidden_dim, num_layers, batch_first=True)\n",
        "        self.fc = nn.Linear(hidden_dim, output_dim)\n",
        "\n",
        "    def forward(self, x):\n",
        "        h0 = torch.zeros(self.num_layers, x.size(0), self.hidden_dim).to(self.device)\n",
        "        c0 = torch.zeros(self.num_layers, x.size(0), self.hidden_dim).to(self.device)\n",
        "        out, _ = self.lstm(x, (h0, c0))\n",
        "        out = self.fc(out[:, -1, :])\n",
        "        return out\n",
        "\n",
        "    def training_step(self, batch, batch_idx):\n",
        "        x, y = batch\n",
        "        y_hat = self.forward(x)\n",
        "        loss = nn.MSELoss()(y_hat, y)\n",
        "        self.log('train_loss', loss)\n",
        "        return loss\n",
        "\n",
        "    def validation_step(self, batch, batch_idx):\n",
        "        x, y = batch\n",
        "        y_hat = self.forward(x)\n",
        "        loss = nn.MSELoss()(y_hat, y)\n",
        "        self.log('val_loss', loss)\n",
        "        return loss\n",
        "\n",
        "    def test_step(self, batch, batch_idx):\n",
        "        x, y = batch\n",
        "        y_hat = self.forward(x)\n",
        "        loss = nn.MSELoss()(y_hat, y)\n",
        "        self.log('test_loss', loss)\n",
        "        return loss\n",
        "\n",
        "    def configure_optimizers(self):\n",
        "        return torch.optim.Adam(self.parameters(), lr=0.0003)\n"
      ],
      "metadata": {
        "id": "tjkbGGe6MFA7"
      },
      "execution_count": null,
      "outputs": []
    },
    {
      "cell_type": "code",
      "source": [
        "# Convert data to PyTorch tensors\n",
        "X_train_tensor = torch.tensor(X_train, dtype=torch.float32)\n",
        "y_train_tensor = torch.tensor(y_train, dtype=torch.float32)\n",
        "X_test_tensor = torch.tensor(X_test, dtype=torch.float32)\n",
        "y_test_tensor = torch.tensor(y_test, dtype=torch.float32)\n",
        "\n",
        "# Create DataLoader\n",
        "train_dataset = TensorDataset(X_train_tensor, y_train_tensor)\n",
        "train_loader = DataLoader(train_dataset, batch_size=64, shuffle=True)\n",
        "\n",
        "val_dataset = TensorDataset(X_test_tensor, y_test_tensor)\n",
        "val_loader = DataLoader(val_dataset, batch_size=64, shuffle=False)\n",
        "\n",
        "test_dataset = TensorDataset(X_test_tensor, y_test_tensor)\n",
        "test_loader = DataLoader(test_dataset, batch_size=64, shuffle=False)\n",
        "\n",
        "# Initialize model\n",
        "input_dim = 1 # Number of features\n",
        "hidden_dim = 128\n",
        "num_layers = 4\n",
        "output_dim = 1\n",
        "\n",
        "model = LSTMModel(input_dim, hidden_dim, num_layers, output_dim)\n",
        "\n",
        "from pytorch_lightning.callbacks import Callback\n",
        "class TrackTrainLossCallback(Callback):\n",
        "    def __init__(self):\n",
        "        super().__init__()\n",
        "        self.train_losses = []\n",
        "        self.val_losses = []\n",
        "\n",
        "    def on_train_epoch_end(self, trainer, pl_module):\n",
        "        # Retrieve the logged train_loss from the current epoch\n",
        "        train_loss = trainer.logged_metrics.get('train_loss')\n",
        "        if train_loss is not None:\n",
        "            self.train_losses.append(train_loss.item())  # Ensure to convert tensor to Python scalar\n",
        "\n",
        "    def on_train_end(self, trainer, pl_module):\n",
        "        # Optionally, do something with the list of train losses when training ends\n",
        "        print(\"Training completed. Train losses per epoch:\", self.train_losses)\n",
        "\n",
        "    def on_validation_epoch_end(self, trainer, pl_module):\n",
        "        # Retrieve the logged val_loss from the current epoch\n",
        "        val_loss = trainer.logged_metrics.get('val_loss')\n",
        "        if val_loss is not None:\n",
        "            self.val_losses.append(val_loss.item())  # Ensure to convert tensor to Python scalar\n",
        "\n",
        "my_train_callback = TrackTrainLossCallback()\n",
        "\n",
        "# Train model\n",
        "trainer = pl.Trainer(max_epochs=100, callbacks=[my_train_callback],\n",
        "                     # limit_train_batches=30, limit_val_batches=30, limit_test_batches=30,\n",
        "                    )\n",
        "trainer.fit(model, train_loader, val_loader)\n"
      ],
      "metadata": {
        "id": "A9C_hcEVNV7J"
      },
      "execution_count": null,
      "outputs": []
    },
    {
      "cell_type": "code",
      "source": [
        "import matplotlib.pyplot as plt\n",
        "#def plot_loss(train_loss, val_loss, title, save_path=None, log=False):\n",
        "# Assuming model is an instance of MyModel and training is done\n",
        "plt.figure(figsize=(10, 5))\n",
        "plt.plot(my_train_callback.train_losses, label='Training Loss')\n",
        "plt.plot(my_train_callback.val_losses, label='Val Loss')\n",
        "# plt.plot(val_loss, label='Val Loss') #\n",
        "# plt.plot(np.log2(model.losses), label='log 2 Training Loss')\n",
        "plt.xlabel('Epoch')\n",
        "plt.ylabel('Loss')\n",
        "# plt.title(title)\n",
        "plt.legend()\n",
        "# plt.savefig(save_path)\n",
        "plt.show()"
      ],
      "metadata": {
        "id": "BhV2Av6eXaui"
      },
      "execution_count": null,
      "outputs": []
    },
    {
      "cell_type": "code",
      "source": [
        "#def plot_loss(train_loss, val_loss, title, save_path=None, log=False):\n",
        "# Assuming model is an instance of MyModel and training is done\n",
        "plt.figure(figsize=(10, 5))\n",
        "plt.plot(my_train_callback.train_losses[80:100], label='Training Loss')\n",
        "plt.plot(my_train_callback.val_losses[80:100], label='Val Loss')\n",
        "# plt.plot(val_loss, label='Val Loss') #\n",
        "# plt.plot(np.log2(model.losses), label='log 2 Training Loss')\n",
        "plt.xlabel('Epoch')\n",
        "plt.ylabel('Loss')\n",
        "# plt.title(title)\n",
        "plt.legend()\n",
        "# plt.savefig(save_path)\n",
        "plt.show()"
      ],
      "metadata": {
        "id": "T-y6oghDYn-7"
      },
      "execution_count": null,
      "outputs": []
    },
    {
      "cell_type": "code",
      "source": [
        "print(my_train_callback.train_losses[-5:])"
      ],
      "metadata": {
        "id": "O-LslmpZZ7I5"
      },
      "execution_count": null,
      "outputs": []
    },
    {
      "cell_type": "code",
      "source": [
        "from sklearn.preprocessing import MinMaxScaler\n",
        "from sklearn.model_selection import train_test_split\n",
        "\n",
        "# Predict on the test set\n",
        "# predictions = trainer.test(model, train_loader)\n",
        "\n",
        "# Plot the results\n",
        "import matplotlib.pyplot as plt\n",
        "\n",
        "plt.figure(figsize=(12, 6))\n",
        "plt.plot(y_train[:100], label='True')\n",
        "plt.plot(model(X_test_tensor[:100]).detach().numpy(), label='Predicted')\n",
        "plt.legend()\n",
        "plt.show()"
      ],
      "metadata": {
        "id": "2ZEzfN0iOAak"
      },
      "execution_count": null,
      "outputs": []
    },
    {
      "cell_type": "code",
      "source": [
        "model.eval()\n",
        "with torch.no_grad():\n",
        "  predictions = model(X_test_tensor[:2000]).detach().numpy()\n",
        "  unscaled_predictions = scalar.inverse_transform(predictions)\n",
        "  unscaled_y_test = scalar.inverse_transform(y_test)\n",
        "  plt.figure(figsize=(12, 6))\n",
        "  plt.plot(unscaled_y_test[:2000], label='True')\n",
        "  plt.plot(unscaled_predictions, label='Predicted')\n",
        "  plt.legend()\n",
        "  plt.show()"
      ],
      "metadata": {
        "id": "t9usxw1wp4RA"
      },
      "execution_count": null,
      "outputs": []
    },
    {
      "cell_type": "code",
      "source": [
        "trainer.test(model, test_loader)"
      ],
      "metadata": {
        "id": "ylGuSx3ff0_d"
      },
      "execution_count": null,
      "outputs": []
    }
  ]
}